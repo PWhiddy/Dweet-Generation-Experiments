{
  "nbformat": 4,
  "nbformat_minor": 0,
  "metadata": {
    "colab": {
      "name": "Dweet-Generator.ipynb",
      "provenance": [],
      "collapsed_sections": [],
      "authorship_tag": "ABX9TyPy0hG7TniXaLZDXkso381L",
      "include_colab_link": true
    },
    "kernelspec": {
      "name": "python3",
      "display_name": "Python 3"
    }
  },
  "cells": [
    {
      "cell_type": "markdown",
      "metadata": {
        "id": "view-in-github",
        "colab_type": "text"
      },
      "source": [
        "<a href=\"https://colab.research.google.com/github/PWhiddy/Dweet-Generation-Experiments/blob/master/Dweet_Generator.ipynb\" target=\"_parent\"><img src=\"https://colab.research.google.com/assets/colab-badge.svg\" alt=\"Open In Colab\"/></a>"
      ]
    },
    {
      "cell_type": "code",
      "metadata": {
        "id": "ZH7ge0xtuyY-",
        "colab_type": "code",
        "colab": {}
      },
      "source": [
        "import urllib\n",
        "import json\n",
        "import os\n",
        "from tqdm import tqdm"
      ],
      "execution_count": 5,
      "outputs": []
    },
    {
      "cell_type": "code",
      "metadata": {
        "id": "IF68GMKzu75M",
        "colab_type": "code",
        "colab": {}
      },
      "source": [
        ""
      ],
      "execution_count": 5,
      "outputs": []
    },
    {
      "cell_type": "code",
      "metadata": {
        "id": "GV0Ev7efwCNM",
        "colab_type": "code",
        "colab": {
          "base_uri": "https://localhost:8080/",
          "height": 34
        },
        "outputId": "5b00d61f-dbed-4b84-9878-0aff8b5c780c"
      },
      "source": [
        "!ls"
      ],
      "execution_count": 6,
      "outputs": [
        {
          "output_type": "stream",
          "text": [
            "sample_data\n"
          ],
          "name": "stdout"
        }
      ]
    },
    {
      "cell_type": "code",
      "metadata": {
        "id": "gMvdWCOlvDHJ",
        "colab_type": "code",
        "colab": {
          "base_uri": "https://localhost:8080/",
          "height": 34
        },
        "outputId": "2498bcbc-fb57-41dc-d1b9-fcb4fa191392"
      },
      "source": [
        "fetch_size = 100\n",
        "fetches = 100\n",
        "results = []\n",
        "store = './all_dweets.jsonl'\n",
        "if not os.path.isfile(store):\n",
        "  for i in tqdm(range(fetches)):\n",
        "    cur_url = f'http://www.dwitter.net/apiv2beta/dweets/?limit={fetch_size}&offset={fetch_size*i}'\n",
        "    req = urllib.request.urlopen(cur_url)\n",
        "    raw_dat = req.read()\n",
        "    encoding = req.info().get_content_charset('utf-8')\n",
        "    dat = json.loads(raw_dat.decode(encoding))\n",
        "    results = results + dat['results']\n",
        "    cur_url = dat['next']\n",
        "  with open(store, 'w') as f:\n",
        "    for line in results:\n",
        "      print(json.dumps(line), file=f)\n",
        "else:\n",
        "  with open(store) as f:\n",
        "    for line in f.readlines():\n",
        "      results.append(json.loads(line))\n"
      ],
      "execution_count": 7,
      "outputs": [
        {
          "output_type": "stream",
          "text": [
            "100%|██████████| 100/100 [02:15<00:00,  1.36s/it]\n"
          ],
          "name": "stderr"
        }
      ]
    },
    {
      "cell_type": "code",
      "metadata": {
        "id": "10VFPu0_x0jz",
        "colab_type": "code",
        "colab": {
          "base_uri": "https://localhost:8080/",
          "height": 34
        },
        "outputId": "1fb8f7f2-f2ae-4992-e6a5-9017a1a76001"
      },
      "source": [
        "!ls"
      ],
      "execution_count": 8,
      "outputs": [
        {
          "output_type": "stream",
          "text": [
            "all_dweets.jsonl  sample_data\n"
          ],
          "name": "stdout"
        }
      ]
    },
    {
      "cell_type": "code",
      "metadata": {
        "id": "TEoqn3WS3vKd",
        "colab_type": "code",
        "colab": {}
      },
      "source": [
        ""
      ],
      "execution_count": 47,
      "outputs": []
    },
    {
      "cell_type": "code",
      "metadata": {
        "id": "spcP_qmcx-B3",
        "colab_type": "code",
        "colab": {
          "base_uri": "https://localhost:8080/",
          "height": 34
        },
        "outputId": "1731c54f-88f4-4aa0-f7b1-ec4d0d56874e"
      },
      "source": [
        "len(results)"
      ],
      "execution_count": 52,
      "outputs": [
        {
          "output_type": "execute_result",
          "data": {
            "text/plain": [
              "10000"
            ]
          },
          "metadata": {
            "tags": []
          },
          "execution_count": 52
        }
      ]
    },
    {
      "cell_type": "code",
      "metadata": {
        "id": "t7sAhlCpzdNR",
        "colab_type": "code",
        "colab": {
          "base_uri": "https://localhost:8080/",
          "height": 34
        },
        "outputId": "e998c63c-2de5-4978-ba7c-8f49ee8c0efd"
      },
      "source": [
        "[4,4,4,6] + [2,4,5]"
      ],
      "execution_count": 13,
      "outputs": [
        {
          "output_type": "execute_result",
          "data": {
            "text/plain": [
              "[4, 4, 4, 6, 2, 4, 5]"
            ]
          },
          "metadata": {
            "tags": []
          },
          "execution_count": 13
        }
      ]
    },
    {
      "cell_type": "code",
      "metadata": {
        "id": "NsMp-elHz8kH",
        "colab_type": "code",
        "colab": {}
      },
      "source": [
        ""
      ],
      "execution_count": null,
      "outputs": []
    }
  ]
}